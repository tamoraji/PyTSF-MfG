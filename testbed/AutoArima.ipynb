{
 "cells": [
  {
   "cell_type": "code",
   "id": "initial_id",
   "metadata": {
    "collapsed": true,
    "ExecuteTime": {
     "end_time": "2024-09-17T16:59:22.323721Z",
     "start_time": "2024-09-17T16:59:22.318803Z"
    }
   },
   "source": [
    "\n",
    "from modules.utils import load_datasets_statforecast_uni, blocked_rolling_origin_update\n"
   ],
   "outputs": [],
   "execution_count": 31
  },
  {
   "metadata": {
    "ExecuteTime": {
     "end_time": "2024-09-17T16:59:22.345009Z",
     "start_time": "2024-09-17T16:59:22.325639Z"
    }
   },
   "cell_type": "code",
   "source": [
    "data_path = '/Users/moji/PyTSF-MfG/data'\n",
    "datasets = load_datasets_statforecast_uni(data_path)"
   ],
   "id": "21af12ff35562a44",
   "outputs": [
    {
     "name": "stdout",
     "output_type": "stream",
     "text": [
      "/Users/moji/PyTSF-MfG/data/AirPassengers.csv\n",
      "(144, 3)\n",
      "/Users/moji/PyTSF-MfG/data/ABM.csv\n",
      "(10098, 3)\n"
     ]
    }
   ],
   "execution_count": 32
  },
  {
   "metadata": {
    "ExecuteTime": {
     "end_time": "2024-09-17T16:59:22.357978Z",
     "start_time": "2024-09-17T16:59:22.345711Z"
    }
   },
   "cell_type": "code",
   "source": [
    "# Set parameters\n",
    "lookback_window = 10\n",
    "forecast_horizon = 3\n",
    "rolling_step = 3\n",
    "    \n",
    "# Create train-test sets\n",
    "train_test_sets = blocked_rolling_origin_update(datasets['air_passengers'], \n",
    "        target_column='y', \n",
    "        lookback_window=lookback_window, \n",
    "        forecast_horizon=forecast_horizon, \n",
    "        rolling_step=rolling_step\n",
    "    )"
   ],
   "id": "91c399402e86bfb1",
   "outputs": [],
   "execution_count": 33
  },
  {
   "metadata": {
    "ExecuteTime": {
     "end_time": "2024-09-17T16:59:22.363466Z",
     "start_time": "2024-09-17T16:59:22.359121Z"
    }
   },
   "cell_type": "code",
   "source": [
    "# Print information about the splits\n",
    "print(f'number of splits:{len(train_test_sets)}')\n",
    "for i, (train_df, test_df) in enumerate(train_test_sets):\n",
    "    if i >= 3:  # Limit to first 3 items\n",
    "        break\n",
    "    print(f\"Split {i + 1}:\")\n",
    "    print(f\"  Train period: {train_df.index[0]} to {train_df.index[-1]}\")\n",
    "    print(f\"  Test period: {test_df.index[0]} to {test_df.index[-1]}\")\n",
    "    print(f\"  Train samples: {len(train_df)}, Test samples: {len(test_df)}\")\n",
    "    print(train_df)\n",
    "    print(test_df)\n",
    "\n",
    "\n"
   ],
   "id": "2e063262eb2777a7",
   "outputs": [
    {
     "name": "stdout",
     "output_type": "stream",
     "text": [
      "number of splits:44\n",
      "Split 1:\n",
      "  Train period: 0 to 9\n",
      "  Test period: 10 to 12\n",
      "  Train samples: 10, Test samples: 3\n",
      "   unique_id         ds    y\n",
      "0          1 1949-01-01  112\n",
      "1          1 1949-02-01  118\n",
      "2          1 1949-03-01  132\n",
      "3          1 1949-04-01  129\n",
      "4          1 1949-05-01  121\n",
      "5          1 1949-06-01  135\n",
      "6          1 1949-07-01  148\n",
      "7          1 1949-08-01  148\n",
      "8          1 1949-09-01  136\n",
      "9          1 1949-10-01  119\n",
      "    unique_id         ds    y\n",
      "10          1 1949-11-01  104\n",
      "11          1 1949-12-01  118\n",
      "12          1 1950-01-01  115\n",
      "Split 2:\n",
      "  Train period: 3 to 12\n",
      "  Test period: 13 to 15\n",
      "  Train samples: 10, Test samples: 3\n",
      "    unique_id         ds    y\n",
      "3           1 1949-04-01  129\n",
      "4           1 1949-05-01  121\n",
      "5           1 1949-06-01  135\n",
      "6           1 1949-07-01  148\n",
      "7           1 1949-08-01  148\n",
      "8           1 1949-09-01  136\n",
      "9           1 1949-10-01  119\n",
      "10          1 1949-11-01  104\n",
      "11          1 1949-12-01  118\n",
      "12          1 1950-01-01  115\n",
      "    unique_id         ds    y\n",
      "13          1 1950-02-01  126\n",
      "14          1 1950-03-01  141\n",
      "15          1 1950-04-01  135\n",
      "Split 3:\n",
      "  Train period: 6 to 15\n",
      "  Test period: 16 to 18\n",
      "  Train samples: 10, Test samples: 3\n",
      "    unique_id         ds    y\n",
      "6           1 1949-07-01  148\n",
      "7           1 1949-08-01  148\n",
      "8           1 1949-09-01  136\n",
      "9           1 1949-10-01  119\n",
      "10          1 1949-11-01  104\n",
      "11          1 1949-12-01  118\n",
      "12          1 1950-01-01  115\n",
      "13          1 1950-02-01  126\n",
      "14          1 1950-03-01  141\n",
      "15          1 1950-04-01  135\n",
      "    unique_id         ds    y\n",
      "16          1 1950-05-01  125\n",
      "17          1 1950-06-01  149\n",
      "18          1 1950-07-01  170\n"
     ]
    }
   ],
   "execution_count": 34
  },
  {
   "metadata": {
    "ExecuteTime": {
     "end_time": "2024-09-17T16:59:22.366079Z",
     "start_time": "2024-09-17T16:59:22.364033Z"
    }
   },
   "cell_type": "code",
   "source": "test_df['y'].values",
   "id": "933324b229e9647f",
   "outputs": [
    {
     "data": {
      "text/plain": [
       "array([170, 158, 133])"
      ]
     },
     "execution_count": 35,
     "metadata": {},
     "output_type": "execute_result"
    }
   ],
   "execution_count": 35
  },
  {
   "metadata": {
    "ExecuteTime": {
     "end_time": "2024-09-17T16:59:22.368210Z",
     "start_time": "2024-09-17T16:59:22.366633Z"
    }
   },
   "cell_type": "code",
   "source": [
    "from statsforecast.models import AutoARIMA\n",
    "model_params ={}\n",
    "def build_model(params):\n",
    "    return AutoARIMA(**params)"
   ],
   "id": "1e33e30e87803a1a",
   "outputs": [],
   "execution_count": 36
  },
  {
   "metadata": {
    "ExecuteTime": {
     "end_time": "2024-09-17T17:02:42.203722Z",
     "start_time": "2024-09-17T16:59:22.368640Z"
    }
   },
   "cell_type": "code",
   "source": [
    "from modules.evaluator import Evaluator\n",
    "from modules.results_saver import ResultsSaver\n",
    "ALGORITHM = \"AutoArima\"\n",
    "# Set parameters\n",
    "lookback_window = 10\n",
    "forecast_horizon = 3\n",
    "rolling_step = 3\n",
    "\n",
    "OUTPUT_DIR = '/Users/moji/PyTSF-MfG/results'\n",
    "saver = ResultsSaver(OUTPUT_DIR)\n",
    "\n",
    "for name, data in datasets.items():\n",
    "    train_test_sets = blocked_rolling_origin_update(data, \n",
    "        target_column='y', \n",
    "        lookback_window=lookback_window, \n",
    "        forecast_horizon=forecast_horizon, \n",
    "        rolling_step=rolling_step\n",
    "    )\n",
    "    all_results = {}\n",
    "    for i, (train_df, test_df) in enumerate(train_test_sets):    \n",
    "        model = build_model(model_params)\n",
    "        train_df = train_df.reset_index(drop=True)\n",
    "        model.fit(train_df['y'])\n",
    "        # print(f'model fitted for window {i})')\n",
    "        prediction = model.predict(h=forecast_horizon)\n",
    "        forecast = prediction['mean']\n",
    "        # print(type(forecast))\n",
    "        actual = test_df['y'].values\n",
    "        iteration_metrics = Evaluator.calculate_metrics(actual, forecast)\n",
    "        all_results[f\"iteration_{i}\"] = iteration_metrics\n",
    "        \n",
    "    final_results = Evaluator.aggregate_results(all_results)\n",
    "    print(f\"Final aggregated results for {name}:\")\n",
    "    for metric, value in final_results.items():\n",
    "        print(f\"{metric}: {value}\")\n",
    "    \n",
    "    saver.save_results(final_results, ALGORITHM, name)\n",
    "    print(f\"Experiments completed for {ALGORITHM} on {name} and results saved.\")\n",
    "\n",
    "# save_results(results, 'autoarima_results.json')\n",
    "print(\" experiments completed. Results saved.\")"
   ],
   "id": "c7765c37fa36662c",
   "outputs": [
    {
     "name": "stdout",
     "output_type": "stream",
     "text": [
      "Final aggregated results for air_passengers:\n",
      "MSE: 2417.3701688556052\n",
      "RSME: 40.473127123648624\n",
      "MAE: 34.08438819520562\n",
      "WAPE: 0.11275688728607071\n",
      "MAPE: 0.11380926702883802\n",
      "SMAPE: 11.407302425717292\n",
      "RAE: 1.5120192515900621\n",
      "RSE: 1.5726965963441835\n",
      "MASE: 1.0569100797159063\n",
      "R2: -1.7088677773642822\n",
      "Experiments completed for AutoArima on air_passengers and results saved.\n",
      "Final aggregated results for stock_prices:\n",
      "MSE: 0.6148975888273088\n",
      "RSME: 0.2985673475071124\n",
      "MAE: 0.2691129240437465\n",
      "WAPE: 0.018335297589351676\n",
      "MAPE: 0.01835418734110978\n",
      "SMAPE: 1.8708897477626578\n",
      "RAE: 37121797.08974514\n",
      "RSE: 219.3238303037673\n",
      "MASE: 12373933.335832218\n",
      "R2: -4911271.146455121\n",
      "Experiments completed for AutoArima on stock_prices and results saved.\n",
      " experiments completed. Results saved.\n"
     ]
    }
   ],
   "execution_count": 37
  },
  {
   "metadata": {
    "ExecuteTime": {
     "end_time": "2024-09-17T17:02:42.205694Z",
     "start_time": "2024-09-17T17:02:42.204500Z"
    }
   },
   "cell_type": "code",
   "source": "",
   "id": "5f2acfb083888c6",
   "outputs": [],
   "execution_count": 37
  }
 ],
 "metadata": {
  "kernelspec": {
   "display_name": "Python 3",
   "language": "python",
   "name": "python3"
  },
  "language_info": {
   "codemirror_mode": {
    "name": "ipython",
    "version": 2
   },
   "file_extension": ".py",
   "mimetype": "text/x-python",
   "name": "python",
   "nbconvert_exporter": "python",
   "pygments_lexer": "ipython2",
   "version": "2.7.6"
  }
 },
 "nbformat": 4,
 "nbformat_minor": 5
}
