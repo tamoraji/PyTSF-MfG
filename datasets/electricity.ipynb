{
 "cells": [
  {
   "metadata": {
    "ExecuteTime": {
     "end_time": "2024-10-17T03:06:27.619646Z",
     "start_time": "2024-10-17T03:06:22.696396Z"
    }
   },
   "cell_type": "code",
   "source": [
    "import pandas as pd\n",
    "import numpy as np\n",
    "\n",
    "# Custom date parser function\n",
    "def parse_date(date, time):\n",
    "    return pd.to_datetime(date + ' ' + time, format='%d/%m/%Y %H:%M:%S')\n",
    "\n",
    "# Load the dataset\n",
    "df = pd.read_csv('/Users/moji/PyTSF-MfG/data/household_power_consumption.csv', \n",
    "                 sep=';', \n",
    "                 parse_dates={'Timestamp': ['Date', 'Time']},\n",
    "                 date_parser=parse_date,\n",
    "                 dayfirst=True,\n",
    "                 low_memory=False)\n",
    "df"
   ],
   "id": "8c319f77eaed46c3",
   "outputs": [
    {
     "name": "stderr",
     "output_type": "stream",
     "text": [
      "/var/folders/0s/whfbkk11083fmvg1wl2nrqqm0000gn/T/ipykernel_81876/2812190735.py:9: FutureWarning: Support for nested sequences for 'parse_dates' in pd.read_csv is deprecated. Combine the desired columns with pd.to_datetime after parsing instead.\n",
      "  df = pd.read_csv('/Users/moji/PyTSF-MfG/data/household_power_consumption.csv',\n",
      "/var/folders/0s/whfbkk11083fmvg1wl2nrqqm0000gn/T/ipykernel_81876/2812190735.py:9: FutureWarning: The argument 'date_parser' is deprecated and will be removed in a future version. Please use 'date_format' instead, or read your data in as 'object' dtype and then call 'to_datetime'.\n",
      "  df = pd.read_csv('/Users/moji/PyTSF-MfG/data/household_power_consumption.csv',\n"
     ]
    },
    {
     "data": {
      "text/plain": [
       "                  Timestamp Global_active_power Global_reactive_power  \\\n",
       "0       2006-12-16 17:24:00               4.216                 0.418   \n",
       "1       2006-12-16 17:25:00               5.360                 0.436   \n",
       "2       2006-12-16 17:26:00               5.374                 0.498   \n",
       "3       2006-12-16 17:27:00               5.388                 0.502   \n",
       "4       2006-12-16 17:28:00               3.666                 0.528   \n",
       "...                     ...                 ...                   ...   \n",
       "2075254 2010-11-26 20:58:00               0.946                 0.000   \n",
       "2075255 2010-11-26 20:59:00               0.944                 0.000   \n",
       "2075256 2010-11-26 21:00:00               0.938                 0.000   \n",
       "2075257 2010-11-26 21:01:00               0.934                 0.000   \n",
       "2075258 2010-11-26 21:02:00               0.932                 0.000   \n",
       "\n",
       "         Voltage Global_intensity Sub_metering_1 Sub_metering_2  \\\n",
       "0        234.840           18.400          0.000          1.000   \n",
       "1        233.630           23.000          0.000          1.000   \n",
       "2        233.290           23.000          0.000          2.000   \n",
       "3        233.740           23.000          0.000          1.000   \n",
       "4        235.680           15.800          0.000          1.000   \n",
       "...          ...              ...            ...            ...   \n",
       "2075254  240.430            4.000          0.000          0.000   \n",
       "2075255  240.000            4.000          0.000          0.000   \n",
       "2075256  239.820            3.800          0.000          0.000   \n",
       "2075257  239.700            3.800          0.000          0.000   \n",
       "2075258  239.550            3.800          0.000          0.000   \n",
       "\n",
       "         Sub_metering_3  \n",
       "0                  17.0  \n",
       "1                  16.0  \n",
       "2                  17.0  \n",
       "3                  17.0  \n",
       "4                  17.0  \n",
       "...                 ...  \n",
       "2075254             0.0  \n",
       "2075255             0.0  \n",
       "2075256             0.0  \n",
       "2075257             0.0  \n",
       "2075258             0.0  \n",
       "\n",
       "[2075259 rows x 8 columns]"
      ],
      "text/html": [
       "<div>\n",
       "<style scoped>\n",
       "    .dataframe tbody tr th:only-of-type {\n",
       "        vertical-align: middle;\n",
       "    }\n",
       "\n",
       "    .dataframe tbody tr th {\n",
       "        vertical-align: top;\n",
       "    }\n",
       "\n",
       "    .dataframe thead th {\n",
       "        text-align: right;\n",
       "    }\n",
       "</style>\n",
       "<table border=\"1\" class=\"dataframe\">\n",
       "  <thead>\n",
       "    <tr style=\"text-align: right;\">\n",
       "      <th></th>\n",
       "      <th>Timestamp</th>\n",
       "      <th>Global_active_power</th>\n",
       "      <th>Global_reactive_power</th>\n",
       "      <th>Voltage</th>\n",
       "      <th>Global_intensity</th>\n",
       "      <th>Sub_metering_1</th>\n",
       "      <th>Sub_metering_2</th>\n",
       "      <th>Sub_metering_3</th>\n",
       "    </tr>\n",
       "  </thead>\n",
       "  <tbody>\n",
       "    <tr>\n",
       "      <th>0</th>\n",
       "      <td>2006-12-16 17:24:00</td>\n",
       "      <td>4.216</td>\n",
       "      <td>0.418</td>\n",
       "      <td>234.840</td>\n",
       "      <td>18.400</td>\n",
       "      <td>0.000</td>\n",
       "      <td>1.000</td>\n",
       "      <td>17.0</td>\n",
       "    </tr>\n",
       "    <tr>\n",
       "      <th>1</th>\n",
       "      <td>2006-12-16 17:25:00</td>\n",
       "      <td>5.360</td>\n",
       "      <td>0.436</td>\n",
       "      <td>233.630</td>\n",
       "      <td>23.000</td>\n",
       "      <td>0.000</td>\n",
       "      <td>1.000</td>\n",
       "      <td>16.0</td>\n",
       "    </tr>\n",
       "    <tr>\n",
       "      <th>2</th>\n",
       "      <td>2006-12-16 17:26:00</td>\n",
       "      <td>5.374</td>\n",
       "      <td>0.498</td>\n",
       "      <td>233.290</td>\n",
       "      <td>23.000</td>\n",
       "      <td>0.000</td>\n",
       "      <td>2.000</td>\n",
       "      <td>17.0</td>\n",
       "    </tr>\n",
       "    <tr>\n",
       "      <th>3</th>\n",
       "      <td>2006-12-16 17:27:00</td>\n",
       "      <td>5.388</td>\n",
       "      <td>0.502</td>\n",
       "      <td>233.740</td>\n",
       "      <td>23.000</td>\n",
       "      <td>0.000</td>\n",
       "      <td>1.000</td>\n",
       "      <td>17.0</td>\n",
       "    </tr>\n",
       "    <tr>\n",
       "      <th>4</th>\n",
       "      <td>2006-12-16 17:28:00</td>\n",
       "      <td>3.666</td>\n",
       "      <td>0.528</td>\n",
       "      <td>235.680</td>\n",
       "      <td>15.800</td>\n",
       "      <td>0.000</td>\n",
       "      <td>1.000</td>\n",
       "      <td>17.0</td>\n",
       "    </tr>\n",
       "    <tr>\n",
       "      <th>...</th>\n",
       "      <td>...</td>\n",
       "      <td>...</td>\n",
       "      <td>...</td>\n",
       "      <td>...</td>\n",
       "      <td>...</td>\n",
       "      <td>...</td>\n",
       "      <td>...</td>\n",
       "      <td>...</td>\n",
       "    </tr>\n",
       "    <tr>\n",
       "      <th>2075254</th>\n",
       "      <td>2010-11-26 20:58:00</td>\n",
       "      <td>0.946</td>\n",
       "      <td>0.000</td>\n",
       "      <td>240.430</td>\n",
       "      <td>4.000</td>\n",
       "      <td>0.000</td>\n",
       "      <td>0.000</td>\n",
       "      <td>0.0</td>\n",
       "    </tr>\n",
       "    <tr>\n",
       "      <th>2075255</th>\n",
       "      <td>2010-11-26 20:59:00</td>\n",
       "      <td>0.944</td>\n",
       "      <td>0.000</td>\n",
       "      <td>240.000</td>\n",
       "      <td>4.000</td>\n",
       "      <td>0.000</td>\n",
       "      <td>0.000</td>\n",
       "      <td>0.0</td>\n",
       "    </tr>\n",
       "    <tr>\n",
       "      <th>2075256</th>\n",
       "      <td>2010-11-26 21:00:00</td>\n",
       "      <td>0.938</td>\n",
       "      <td>0.000</td>\n",
       "      <td>239.820</td>\n",
       "      <td>3.800</td>\n",
       "      <td>0.000</td>\n",
       "      <td>0.000</td>\n",
       "      <td>0.0</td>\n",
       "    </tr>\n",
       "    <tr>\n",
       "      <th>2075257</th>\n",
       "      <td>2010-11-26 21:01:00</td>\n",
       "      <td>0.934</td>\n",
       "      <td>0.000</td>\n",
       "      <td>239.700</td>\n",
       "      <td>3.800</td>\n",
       "      <td>0.000</td>\n",
       "      <td>0.000</td>\n",
       "      <td>0.0</td>\n",
       "    </tr>\n",
       "    <tr>\n",
       "      <th>2075258</th>\n",
       "      <td>2010-11-26 21:02:00</td>\n",
       "      <td>0.932</td>\n",
       "      <td>0.000</td>\n",
       "      <td>239.550</td>\n",
       "      <td>3.800</td>\n",
       "      <td>0.000</td>\n",
       "      <td>0.000</td>\n",
       "      <td>0.0</td>\n",
       "    </tr>\n",
       "  </tbody>\n",
       "</table>\n",
       "<p>2075259 rows × 8 columns</p>\n",
       "</div>"
      ]
     },
     "execution_count": 2,
     "metadata": {},
     "output_type": "execute_result"
    }
   ],
   "execution_count": 2
  },
  {
   "metadata": {
    "ExecuteTime": {
     "end_time": "2024-10-17T03:07:32.520909Z",
     "start_time": "2024-10-17T03:07:30.720976Z"
    }
   },
   "cell_type": "code",
   "source": [
    "# Convert columns to appropriate data types\n",
    "numeric_columns = ['Global_active_power', 'Global_reactive_power', 'Voltage', \n",
    "                   'Global_intensity', 'Sub_metering_1', 'Sub_metering_2', 'Sub_metering_3']\n",
    "\n",
    "for col in numeric_columns:\n",
    "    df[col] = pd.to_numeric(df[col], errors='coerce')\n",
    "\n",
    "# Set Timestamp as index\n",
    "df.set_index('Timestamp', inplace=True)\n",
    "\n",
    "# Check for missing values\n",
    "print(\"Missing values before filling:\")\n",
    "print(df.isnull().sum())"
   ],
   "id": "7e3dd2f36d7982ce",
   "outputs": [
    {
     "name": "stdout",
     "output_type": "stream",
     "text": [
      "Missing values before filling:\n",
      "Global_active_power      25979\n",
      "Global_reactive_power    25979\n",
      "Voltage                  25979\n",
      "Global_intensity         25979\n",
      "Sub_metering_1           25979\n",
      "Sub_metering_2           25979\n",
      "Sub_metering_3           25979\n",
      "dtype: int64\n"
     ]
    }
   ],
   "execution_count": 3
  },
  {
   "metadata": {
    "ExecuteTime": {
     "end_time": "2024-10-17T03:07:49.891440Z",
     "start_time": "2024-10-17T03:07:49.765850Z"
    }
   },
   "cell_type": "code",
   "source": [
    "# Fill missing values\n",
    "# For numeric columns, we'll use forward fill, then backward fill\n",
    "df[numeric_columns] = df[numeric_columns].fillna(method='ffill').fillna(method='bfill')\n",
    "\n",
    "print(\"\\nMissing values after filling:\")\n",
    "print(df.isnull().sum())"
   ],
   "id": "20c975563324ab4e",
   "outputs": [
    {
     "name": "stdout",
     "output_type": "stream",
     "text": [
      "\n",
      "Missing values after filling:\n",
      "Global_active_power      0\n",
      "Global_reactive_power    0\n",
      "Voltage                  0\n",
      "Global_intensity         0\n",
      "Sub_metering_1           0\n",
      "Sub_metering_2           0\n",
      "Sub_metering_3           0\n",
      "dtype: int64\n"
     ]
    },
    {
     "name": "stderr",
     "output_type": "stream",
     "text": [
      "/var/folders/0s/whfbkk11083fmvg1wl2nrqqm0000gn/T/ipykernel_81876/1580426427.py:3: FutureWarning: DataFrame.fillna with 'method' is deprecated and will raise in a future version. Use obj.ffill() or obj.bfill() instead.\n",
      "  df[numeric_columns] = df[numeric_columns].fillna(method='ffill').fillna(method='bfill')\n"
     ]
    }
   ],
   "execution_count": 4
  },
  {
   "metadata": {
    "ExecuteTime": {
     "end_time": "2024-10-17T03:08:13.106084Z",
     "start_time": "2024-10-17T03:08:12.994666Z"
    }
   },
   "cell_type": "code",
   "source": [
    "# Check for duplicate timestamps\n",
    "duplicate_timestamps = df.index.duplicated()\n",
    "print(f\"\\nNumber of duplicate timestamps: {duplicate_timestamps.sum()}\")\n",
    "# Remove duplicate timestamps (keep first occurrence)\n",
    "# df = df[~duplicate_timestamps]"
   ],
   "id": "903f583a9310c8b0",
   "outputs": [
    {
     "name": "stdout",
     "output_type": "stream",
     "text": [
      "\n",
      "Number of duplicate timestamps: 0\n"
     ]
    }
   ],
   "execution_count": 5
  },
  {
   "metadata": {
    "ExecuteTime": {
     "end_time": "2024-10-17T03:09:18.841079Z",
     "start_time": "2024-10-17T03:09:18.678730Z"
    }
   },
   "cell_type": "code",
   "source": [
    "# Resample to hourly data\n",
    "df_hourly = df.resample('h').mean()\n",
    "\n",
    "# Check for inconsistencies\n",
    "print(\"\\nDescriptive statistics for hourly data:\")\n",
    "print(df_hourly.describe())"
   ],
   "id": "c0eb0934868b975b",
   "outputs": [
    {
     "name": "stdout",
     "output_type": "stream",
     "text": [
      "\n",
      "Descriptive statistics for hourly data:\n",
      "       Global_active_power  Global_reactive_power       Voltage  \\\n",
      "count         34589.000000           34589.000000  34589.000000   \n",
      "mean              1.086200               0.123326    240.841505   \n",
      "std               0.894942               0.067221      2.999127   \n",
      "min               0.124000               0.000000    225.834500   \n",
      "25%               0.341267               0.077667    239.197167   \n",
      "50%               0.799533               0.106767    240.984500   \n",
      "75%               1.574967               0.149367    242.691833   \n",
      "max               6.560533               0.774333    251.902000   \n",
      "\n",
      "       Global_intensity  Sub_metering_1  Sub_metering_2  Sub_metering_3  \n",
      "count      34589.000000    34589.000000    34589.000000    34589.000000  \n",
      "mean           4.604360        1.110951        1.287914        6.416515  \n",
      "std            3.746337        3.518498        4.168720        7.344718  \n",
      "min            0.503333        0.000000        0.000000        0.000000  \n",
      "25%            1.510000        0.000000        0.000000        0.650000  \n",
      "50%            3.406667        0.000000        0.333333        1.650000  \n",
      "75%            6.583333        0.000000        0.650000       14.083333  \n",
      "max           28.383333       48.366667       46.433333       21.550000  \n"
     ]
    }
   ],
   "execution_count": 7
  },
  {
   "metadata": {
    "ExecuteTime": {
     "end_time": "2024-10-17T03:10:01.717286Z",
     "start_time": "2024-10-17T03:10:01.700597Z"
    }
   },
   "cell_type": "code",
   "source": [
    "# Check for outliers using IQR method\n",
    "def detect_outliers(df, column):\n",
    "    Q1 = df[column].quantile(0.25)\n",
    "    Q3 = df[column].quantile(0.75)\n",
    "    IQR = Q3 - Q1\n",
    "    lower_bound = Q1 - 1.5 * IQR\n",
    "    upper_bound = Q3 + 1.5 * IQR\n",
    "    outliers = df[(df[column] < lower_bound) | (df[column] > upper_bound)]\n",
    "    return outliers\n",
    "\n",
    "# Example: Check for outliers in 'Global_active_power'\n",
    "outliers = detect_outliers(df_hourly, 'Global_active_power')\n",
    "print(f\"\\nNumber of outliers in Global_active_power: {len(outliers)}\")"
   ],
   "id": "45389db812aa86d",
   "outputs": [
    {
     "name": "stdout",
     "output_type": "stream",
     "text": [
      "\n",
      "Number of outliers in Global_active_power: 738\n"
     ]
    }
   ],
   "execution_count": 8
  },
  {
   "metadata": {
    "ExecuteTime": {
     "end_time": "2024-10-17T03:10:21.930916Z",
     "start_time": "2024-10-17T03:10:21.915463Z"
    }
   },
   "cell_type": "code",
   "source": [
    "# Additional consistency checks\n",
    "print(\"\\nCheck for negative values in power and energy columns:\")\n",
    "for column in numeric_columns:\n",
    "    negative_values = df_hourly[df_hourly[column] < 0]\n",
    "    print(f\"{column}: {len(negative_values)} negative values\")"
   ],
   "id": "b2f3659b98a39d20",
   "outputs": [
    {
     "name": "stdout",
     "output_type": "stream",
     "text": [
      "\n",
      "Check for negative values in power and energy columns:\n",
      "Global_active_power: 0 negative values\n",
      "Global_reactive_power: 0 negative values\n",
      "Voltage: 0 negative values\n",
      "Global_intensity: 0 negative values\n",
      "Sub_metering_1: 0 negative values\n",
      "Sub_metering_2: 0 negative values\n",
      "Sub_metering_3: 0 negative values\n"
     ]
    }
   ],
   "execution_count": 9
  },
  {
   "cell_type": "code",
   "id": "initial_id",
   "metadata": {
    "collapsed": true,
    "ExecuteTime": {
     "end_time": "2024-10-17T03:11:01.660440Z",
     "start_time": "2024-10-17T03:11:01.516612Z"
    }
   },
   "source": [
    "# Save the cleaned and resampled data\n",
    "df_hourly.to_csv('electricity_data.csv')\n",
    "\n",
    "print(\"\\nCleaned and resampled hourly data saved to 'electricity_data.csv'\")"
   ],
   "outputs": [
    {
     "name": "stdout",
     "output_type": "stream",
     "text": [
      "\n",
      "Cleaned and resampled hourly data saved to 'electricity_data.csv'\n"
     ]
    }
   ],
   "execution_count": 10
  }
 ],
 "metadata": {
  "kernelspec": {
   "display_name": "Python 3",
   "language": "python",
   "name": "python3"
  },
  "language_info": {
   "codemirror_mode": {
    "name": "ipython",
    "version": 2
   },
   "file_extension": ".py",
   "mimetype": "text/x-python",
   "name": "python",
   "nbconvert_exporter": "python",
   "pygments_lexer": "ipython2",
   "version": "2.7.6"
  }
 },
 "nbformat": 4,
 "nbformat_minor": 5
}
